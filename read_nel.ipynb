{
 "cells": [
  {
   "cell_type": "code",
   "execution_count": 1,
   "metadata": {},
   "outputs": [
    {
     "name": "stdout",
     "output_type": "stream",
     "text": [
      "171\n"
     ]
    }
   ],
   "source": [
    "import numpy as np\n",
    "import networkx as nx\n",
    "\n",
    "with open('OHSU.nel','r') as f:\n",
    "    data_list = f.read().strip().split('\\n')\n",
    "\n",
    "max_node = 0\n",
    "\n",
    "pos_count = 0\n",
    "neg_count = 0\n",
    "G = nx.Graph()\n",
    "for data in data_list:\n",
    "    if 'n' in data:\n",
    "        node_id = int(data.strip().split()[1])\n",
    "        G.add_node(node_id)\n",
    "    elif 'e' in data:\n",
    "        n1, n2 = int(data.strip().split()[1]), int(data.strip().split()[2])\n",
    "        G.add_edge(n1,n2)\n",
    "    elif 'x' in data:\n",
    "        prop = int(data.strip().split()[1])\n",
    "        if prop == 1:\n",
    "            pos_count += 1\n",
    "            num_nodes = G.number_of_nodes()\n",
    "            if num_nodes > max_node:\n",
    "                max_node = num_nodes\n",
    "            nx.write_gpickle(G, 'pos_'+str(pos_count)+'.gpickle')\n",
    "            G = nx.Graph()\n",
    "        elif prop == -1:\n",
    "            neg_count += 1\n",
    "            num_nodes = G.number_of_nodes()\n",
    "            if num_nodes > max_node:\n",
    "                max_node = num_nodes\n",
    "            nx.write_gpickle(G, 'neg_'+str(neg_count)+'.gpickle')\n",
    "            G = nx.Graph()\n",
    "            \n",
    "            \n",
    "print(max_node)"
   ]
  }
 ],
 "metadata": {
  "kernelspec": {
   "display_name": "Python 3",
   "language": "python",
   "name": "python3"
  },
  "language_info": {
   "codemirror_mode": {
    "name": "ipython",
    "version": 3
   },
   "file_extension": ".py",
   "mimetype": "text/x-python",
   "name": "python",
   "nbconvert_exporter": "python",
   "pygments_lexer": "ipython3",
   "version": "3.6.5"
  }
 },
 "nbformat": 4,
 "nbformat_minor": 2
}
